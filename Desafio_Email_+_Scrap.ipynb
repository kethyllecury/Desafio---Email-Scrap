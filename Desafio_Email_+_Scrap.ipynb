{
  "nbformat": 4,
  "nbformat_minor": 0,
  "metadata": {
    "colab": {
      "provenance": [],
      "authorship_tag": "ABX9TyM5J0tj25BZeYc8vJiKJYcu",
      "include_colab_link": true
    },
    "kernelspec": {
      "name": "python3",
      "display_name": "Python 3"
    },
    "language_info": {
      "name": "python"
    }
  },
  "cells": [
    {
      "cell_type": "markdown",
      "metadata": {
        "id": "view-in-github",
        "colab_type": "text"
      },
      "source": [
        "<a href=\"https://colab.research.google.com/github/kethyllecury/Desafio---Email-Scrap/blob/main/Desafio_Email_%2B_Scrap.ipynb\" target=\"_parent\"><img src=\"https://colab.research.google.com/assets/colab-badge.svg\" alt=\"Open In Colab\"/></a>"
      ]
    },
    {
      "cell_type": "code",
      "source": [
        "!pip install requests\n",
        "\n",
        "import requests\n",
        "import smtplib\n",
        "from email.mime.text import MIMEText\n",
        "from email.mime.multipart import MIMEMultipart"
      ],
      "metadata": {
        "colab": {
          "base_uri": "https://localhost:8080/"
        },
        "id": "7e_-zPcqDBhS",
        "outputId": "2a91a690-e32d-4de3-f32d-1ab18c12a3ac"
      },
      "execution_count": 1,
      "outputs": [
        {
          "output_type": "stream",
          "name": "stdout",
          "text": [
            "Requirement already satisfied: requests in /usr/local/lib/python3.11/dist-packages (2.32.3)\n",
            "Requirement already satisfied: charset-normalizer<4,>=2 in /usr/local/lib/python3.11/dist-packages (from requests) (3.4.2)\n",
            "Requirement already satisfied: idna<4,>=2.5 in /usr/local/lib/python3.11/dist-packages (from requests) (3.10)\n",
            "Requirement already satisfied: urllib3<3,>=1.21.1 in /usr/local/lib/python3.11/dist-packages (from requests) (2.4.0)\n",
            "Requirement already satisfied: certifi>=2017.4.17 in /usr/local/lib/python3.11/dist-packages (from requests) (2025.4.26)\n"
          ]
        }
      ]
    },
    {
      "cell_type": "code",
      "source": [
        "OMDB_API_KEY = 'f24e1b2a'\n",
        "EMAIL_SENDER = 'kethyllecury@gmail.com'\n",
        "EMAIL_PASSWORD = 'fjwv lakm hnpa cjpo'\n",
        "EMAIL_RECEIVER = 'kethyllecury@gmail.com'"
      ],
      "metadata": {
        "id": "NhbYjbQXDHPx"
      },
      "execution_count": 7,
      "outputs": []
    },
    {
      "cell_type": "code",
      "source": [
        "def get_movie_data(title):\n",
        "    url = f\"http://www.omdbapi.com/?apikey={OMDB_API_KEY}&t={title}\"\n",
        "    response = requests.get(url)\n",
        "    if response.status_code == 200:\n",
        "        return response.json()\n",
        "    else:\n",
        "        raise Exception(\"Erro ao consultar OMDB\")"
      ],
      "metadata": {
        "id": "nL5Ca7T5DNS5"
      },
      "execution_count": 3,
      "outputs": []
    },
    {
      "cell_type": "code",
      "source": [
        "\n",
        "def send_email(subject, body):\n",
        "    msg = MIMEMultipart()\n",
        "    msg['From'] = EMAIL_SENDER\n",
        "    msg['To'] = EMAIL_RECEIVER\n",
        "    msg['Subject'] = subject\n",
        "\n",
        "    msg.attach(MIMEText(body, 'plain'))\n",
        "\n",
        "    try:\n",
        "        server = smtplib.SMTP('smtp.gmail.com', 587)\n",
        "        server.starttls()\n",
        "        server.login(EMAIL_SENDER, EMAIL_PASSWORD)\n",
        "        server.send_message(msg)\n",
        "        server.quit()\n",
        "        print(\"Email enviado com sucesso!\")\n",
        "    except Exception as e:\n",
        "        print(f\"Erro ao enviar email: {e}\")"
      ],
      "metadata": {
        "id": "Lj_LcKl6DOxJ"
      },
      "execution_count": 5,
      "outputs": []
    },
    {
      "cell_type": "code",
      "execution_count": 8,
      "metadata": {
        "colab": {
          "base_uri": "https://localhost:8080/"
        },
        "id": "vp4w0msbC6QY",
        "outputId": "77234e82-5d27-4de2-b7c0-0017861d5f58"
      },
      "outputs": [
        {
          "output_type": "stream",
          "name": "stdout",
          "text": [
            "Email enviado com sucesso!\n"
          ]
        }
      ],
      "source": [
        "filme = \"Interstellar\"\n",
        "dados = get_movie_data(filme)\n",
        "\n",
        "\n",
        "corpo = f\"\"\"\n",
        "🎬 Informações do Filme: {dados.get('Title')}\n",
        "\n",
        "Ano: {dados.get('Year')}\n",
        "Diretor: {dados.get('Director')}\n",
        "Atores: {dados.get('Actors')}\n",
        "Gênero: {dados.get('Genre')}\n",
        "Nota IMDb: {dados.get('imdbRating')}\n",
        "Enredo: {dados.get('Plot')}\n",
        "\"\"\"\n",
        "\n",
        "send_email(f\"🎬 Dados do filme: {filme}\", corpo)\n"
      ]
    }
  ]
}